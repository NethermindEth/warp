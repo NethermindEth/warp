{
 "cells": [
  {
   "cell_type": "code",
   "execution_count": 15,
   "metadata": {},
   "outputs": [
    {
     "name": "stdout",
     "output_type": "stream",
     "text": [
      "/Users/rohit/nmd/warp\n"
     ]
    }
   ],
   "source": [
    "import os\n",
    "print(os.getcwd())"
   ]
  },
  {
   "cell_type": "code",
   "execution_count": 16,
   "metadata": {},
   "outputs": [
    {
     "name": "stdout",
     "output_type": "stream",
     "text": [
      "tests/compilation/nestedStructs.sol\n",
      "tests/compilation/usingFor/simple.sol\n",
      "tests/compilation/ERC20.sol\n",
      "tests/compilation/freeFunction.sol\n",
      "tests/compilation/address/7/primeField.sol\n",
      "tests/compilation/inheritance/super/base.sol\n",
      "tests/compilation/stateVariables/enums.sol\n",
      "tests/compilation/lib.sol\n",
      "tests/compilation/multipleVariables.sol\n",
      "tests/compilation/typeConversion/explicitTypeConversion.sol\n",
      "tests/compilation/userDefinedFunctionCalls.sol\n",
      "tests/compilation/fileWithMinusSignIncluded-.sol\n",
      "tests/compilation/inheritance/super/mid.sol\n",
      "tests/compilation/userdefinedidentifier.sol\n",
      "tests/compilation/usingFor/private.sol\n",
      "tests/compilation/address/8/padding.sol\n",
      "tests/compilation/inheritance/variables.sol\n",
      "tests/compilation/simpleStorageVar.sol\n",
      "tests/compilation/address/8/primeField.sol\n",
      "tests/compilation/enums.sol\n",
      "tests/compilation/comments.sol\n",
      "tests/compilation/inheritance/simple.sol\n",
      "tests/compilation/address/7/padding.sol\n",
      "tests/compilation/structs.sol\n",
      "tests/compilation/idManglingTest9.sol\n"
     ]
    }
   ],
   "source": [
    "# read lines from logs/a.txt\n",
    "with open('logs/a.txt') as f:\n",
    "    lines = f.readlines()\n",
    "    # filter those lines which has `Running warp compile on tests/compilation` or `Running cairo compile on project tests/compilation`\n",
    "    lines = [line.strip() for line in lines if 'Running warp compile on tests/compilation' in line or 'Running cairo compile on project tests/compilation' in line]\n",
    "\n",
    "    lines = list(map(lambda x: list(map(lambda y:  y.replace('project', '').strip(), x.split('compile on')))[-1],  filter(lambda x: '✔' in x, lines)))\n",
    "\n",
    "    lines = list(map(lambda x: x.split('(')[0].strip(), lines))\n",
    "\n",
    "    passing_files = list(set(filter(lambda line: lines.count(line) > 1, lines)))\n",
    "\n",
    "    # print(passing_files)\n",
    "\n",
    "    for line in passing_files:\n",
    "        print(line)"
   ]
  },
  {
   "cell_type": "code",
   "execution_count": 17,
   "metadata": {},
   "outputs": [
    {
     "name": "stdout",
     "output_type": "stream",
     "text": [
      "tests/compilation/ERC20.sol\n",
      "tests/compilation/ERC20.sol\n",
      "tests/compilation/address/7/padding.sol\n",
      "tests/compilation/address/7/padding.sol\n",
      "tests/compilation/address/7/primeField.sol\n",
      "tests/compilation/address/7/primeField.sol\n",
      "tests/compilation/address/8/padding.sol\n",
      "tests/compilation/address/8/padding.sol\n",
      "tests/compilation/address/8/primeField.sol\n",
      "tests/compilation/address/8/primeField.sol\n",
      "tests/compilation/comments.sol\n",
      "tests/compilation/comments.sol\n",
      "tests/compilation/enums.sol\n",
      "tests/compilation/enums.sol\n",
      "tests/compilation/fileWithMinusSignIncluded-.sol\n",
      "tests/compilation/fileWithMinusSignIncluded-.sol\n",
      "tests/compilation/freeFunction.sol\n",
      "tests/compilation/freeFunction.sol\n",
      "tests/compilation/idManglingTest9.sol\n",
      "tests/compilation/idManglingTest9.sol\n",
      "tests/compilation/inheritance/simple.sol\n",
      "tests/compilation/inheritance/simple.sol\n",
      "tests/compilation/inheritance/super/base.sol\n",
      "tests/compilation/inheritance/super/base.sol\n",
      "tests/compilation/inheritance/super/mid.sol\n",
      "tests/compilation/inheritance/super/mid.sol\n",
      "tests/compilation/inheritance/variables.sol\n",
      "tests/compilation/inheritance/variables.sol\n",
      "tests/compilation/lib.sol\n",
      "tests/compilation/lib.sol\n",
      "tests/compilation/multipleVariables.sol\n",
      "tests/compilation/multipleVariables.sol\n",
      "tests/compilation/nestedStructs.sol\n",
      "tests/compilation/nestedStructs.sol\n",
      "tests/compilation/simpleStorageVar.sol\n",
      "tests/compilation/simpleStorageVar.sol\n",
      "tests/compilation/stateVariables/enums.sol\n",
      "tests/compilation/stateVariables/enums.sol\n",
      "tests/compilation/structs.sol\n",
      "tests/compilation/structs.sol\n",
      "tests/compilation/typeConversion/explicitTypeConversion.sol\n",
      "tests/compilation/typeConversion/explicitTypeConversion.sol\n",
      "tests/compilation/userDefinedFunctionCalls.sol\n",
      "tests/compilation/userDefinedFunctionCalls.sol\n",
      "tests/compilation/userdefinedidentifier.sol\n",
      "tests/compilation/userdefinedidentifier.sol\n",
      "tests/compilation/usingFor/private.sol\n",
      "tests/compilation/usingFor/private.sol\n",
      "tests/compilation/usingFor/simple.sol\n",
      "tests/compilation/usingFor/simple.sol\n"
     ]
    }
   ],
   "source": [
    "for line in lines:\n",
    "        if lines.count(line) > 1:\n",
    "            print(line)"
   ]
  },
  {
   "cell_type": "code",
   "execution_count": 18,
   "metadata": {},
   "outputs": [
    {
     "name": "stdout",
     "output_type": "stream",
     "text": [
      "['nestedStructs.sol','Success'],\n",
      "['usingFor/simple.sol','Success'],\n",
      "['ERC20.sol','Success'],\n",
      "['freeFunction.sol','Success'],\n",
      "['address/7/primeField.sol','Success'],\n",
      "['inheritance/super/base.sol','Success'],\n",
      "['stateVariables/enums.sol','Success'],\n",
      "['lib.sol','Success'],\n",
      "['multipleVariables.sol','Success'],\n",
      "['typeConversion/explicitTypeConversion.sol','Success'],\n",
      "['userDefinedFunctionCalls.sol','Success'],\n",
      "['fileWithMinusSignIncluded-.sol','Success'],\n",
      "['inheritance/super/mid.sol','Success'],\n",
      "['userdefinedidentifier.sol','Success'],\n",
      "['usingFor/private.sol','Success'],\n",
      "['address/8/padding.sol','Success'],\n",
      "['inheritance/variables.sol','Success'],\n",
      "['simpleStorageVar.sol','Success'],\n",
      "['address/8/primeField.sol','Success'],\n",
      "['enums.sol','Success'],\n",
      "['comments.sol','Success'],\n",
      "['inheritance/simple.sol','Success'],\n",
      "['address/7/padding.sol','Success'],\n",
      "['structs.sol','Success'],\n",
      "['idManglingTest9.sol','Success'],\n"
     ]
    }
   ],
   "source": [
    "# copy files from passing_files to exampleContracts\n",
    "for file in passing_files:\n",
    "    file = file.replace('tests/compilation/', '')\n",
    "    print('[\\'' + file + '\\',\\'Success\\'],')\n",
    "    #if base dir is not in the exampleContracts folder then create it\n",
    "    # dirs = file.split('/')[:-1]\n",
    "    # # print(dirs)\n",
    "    # base_dir = 'exampleContracts'\n",
    "    # for dir in dirs:\n",
    "    #     base_dir = os.path.join(base_dir, dir)\n",
    "    #     if not os.path.exists(base_dir):\n",
    "    #         print(f'creating {base_dir}')\n",
    "    #         os.mkdir(base_dir)\n",
    "    # # print(f'cp tests/compilation/{file} exampleContracts/')\n",
    "    # os.system(f'cp tests/compilation/{file} exampleContracts/{file}')\n",
    "\n",
    "# len(passing_files)"
   ]
  }
 ],
 "metadata": {
  "kernelspec": {
   "display_name": "nmd",
   "language": "python",
   "name": "python3"
  },
  "language_info": {
   "codemirror_mode": {
    "name": "ipython",
    "version": 3
   },
   "file_extension": ".py",
   "mimetype": "text/x-python",
   "name": "python",
   "nbconvert_exporter": "python",
   "pygments_lexer": "ipython3",
   "version": "3.9.16"
  },
  "orig_nbformat": 4
 },
 "nbformat": 4,
 "nbformat_minor": 2
}
